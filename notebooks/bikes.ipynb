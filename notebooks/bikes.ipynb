{
 "cells": [
  {
   "cell_type": "markdown",
   "metadata": {},
   "source": [
    "# Origin Destination Dataset\n",
    "\n",
    "This notebook presents an analysis of the origin destination datasets provided by the Sao Paulo government. The datasets contain information about how people move through the city in a tipycal workday, whether to go for work, school or to chill. Also, there are some socio-economic data regarding family income, gender, age and other information that we use to analyze the behaviour of people's trajectories.\n",
    "\n",
    "## Datasets\n",
    "\n",
    "We will be using the datasets from the Origin Destination census from 2017.\n",
    "\n",
    "## Variables of Interest\n",
    "\n",
    "The dataset contain dozens of variables, we focus our analysis in a small group to gather insights from the behaviour of the population. Here we give a brief description of those. Furthermore we start with a simple analysis on each one until we get to deeper insights about how people move in a typical day of the week.\n",
    "\n",
    " - **ZONA_O**: The origin;\n",
    " - **ZONA_D**: The destination zone;\n",
    " - **MODO_PRIN**: Main transport mode used in the trip;\n",
    " - **COORD_X_ORIGIN**: Latitude in the origin;\n",
    " - **COORD_Y_ORIGIN**: Longitude in the origin;\n",
    " - **COORD_X_DESTINATION**: Latitude in the destination;\n",
    " - **COORD_Y_DESTINATION**: Longitude in the destination;\n",
    " - **FEVIAG**: Expansion factor of the trajectory that represents how many more trips like that may exist.\n",
    " - **CD_ENTRE/ID_VIAG**: Binary flag to register if the interviewed person declared a trip. We want discard registers without trips."
   ]
  },
  {
   "cell_type": "code",
   "execution_count": 2,
   "metadata": {},
   "outputs": [],
   "source": [
    "# General Imports\n",
    "import geopandas as gpd #pip install geopandas descartes\n",
    "import pandas as pd #pip install pandas\n",
    "import matplotlib.pyplot as plt # pip install matplotlib\n",
    "import numpy as np\n",
    "\n",
    "from multiprocessing import Pool\n",
    "from dbfread import DBF #pip install dbfread\n",
    "from simpledbf import Dbf5 #pip install simpledbf"
   ]
  },
  {
   "cell_type": "markdown",
   "metadata": {},
   "source": [
    "# Loading the dataset\n",
    "\n",
    "First we load the data from the 2017 dataset."
   ]
  },
  {
   "cell_type": "code",
   "execution_count": 7,
   "metadata": {},
   "outputs": [],
   "source": [
    "# a function to read the DBF file from a given dataset entry and return a Dataframe\n",
    "# containing the N trips specified by chuncksize\n",
    "def read_trips(dbf_file, chunksize=None):\n",
    "    dbf = Dbf5(dbf_file)\n",
    "\n",
    "    raw_trips = None\n",
    "    \n",
    "    if(chunksize == None):\n",
    "        raw_trips = dbf.to_dataframe()\n",
    "    else:\n",
    "        raw_trips=[]\n",
    "        trips_iterator = dbf.to_dataframe(chunksize=chunksize)\n",
    "        \n",
    "        for trip in trips_iterator:\n",
    "            raw_trips.append(trip)\n",
    "        \n",
    "            break\n",
    "    \n",
    "        raw_trips = raw_trips[0]\n",
    " \n",
    "    print('Scanned trips from:', dbf_file)\n",
    "    return raw_trips"
   ]
  },
  {
   "cell_type": "markdown",
   "metadata": {},
   "source": [
    "### Loading the datasets\n",
    "\n",
    "We first read the datasets for the given year that we want analyse. We can load the entire dataset or just\n",
    "a sample."
   ]
  },
  {
   "cell_type": "code",
   "execution_count": 29,
   "metadata": {},
   "outputs": [
    {
     "name": "stdout",
     "output_type": "stream",
     "text": [
      "Scanned trips from: ../datasets/od2017/raw/Banco de dados/OD_2017.dbf\n"
     ]
    },
    {
     "data": {
      "text/plain": [
       "183092"
      ]
     },
     "execution_count": 29,
     "metadata": {},
     "output_type": "execute_result"
    }
   ],
   "source": [
    "SAMPLE_SIZE = None\n",
    "dbf_file = \"../datasets/od2017/raw/Banco de dados/OD_2017.dbf\"\n",
    "trips2017 = read_trips(dbf_file, SAMPLE_SIZE)\n",
    "\n",
    "len(trips2017)"
   ]
  },
  {
   "cell_type": "code",
   "execution_count": 46,
   "metadata": {},
   "outputs": [
    {
     "name": "stdout",
     "output_type": "stream",
     "text": [
      "Number of records going by bike: 1294\n",
      "Number of people after expanding FE_VIA: 376975\n"
     ]
    }
   ],
   "source": [
    "MODO_BIKE = 15\n",
    "reduced_trips = trips2017[trips2017['MODOPRIN'] == MODO_BIKE].copy()\n",
    "\n",
    "print(\"Number of records going by bike:\", len(reduced_trips))\n",
    "print(\"Number of people after expanding FE_VIA:\", int(reduced_trips[[\"FE_VIA\"]].sum()[0]))\n"
   ]
  },
  {
   "cell_type": "code",
   "execution_count": 47,
   "metadata": {},
   "outputs": [
    {
     "name": "stderr",
     "output_type": "stream",
     "text": [
      "/home/tallys/.local/lib/python3.8/site-packages/pyproj/crs.py:77: FutureWarning: '+init=<authority>:<code>' syntax is deprecated. '<authority>:<code>' is the preferred initialization method.\n",
      "  return _prepare_from_string(\" \".join(pjargs))\n",
      "/home/tallys/.local/lib/python3.8/site-packages/pyproj/crs.py:77: FutureWarning: '+init=<authority>:<code>' syntax is deprecated. '<authority>:<code>' is the preferred initialization method.\n",
      "  return _prepare_from_string(\" \".join(pjargs))\n"
     ]
    }
   ],
   "source": [
    "### Step 2: Change coordinates projection to ellps:WGS84\n",
    "\n",
    "# Create a dataframe containing origin coordinates CO_O_X and CO_O_Y\n",
    "geo_trips_origins = gpd.GeoDataFrame(\n",
    "    reduced_trips[['CO_O_X', 'CO_O_Y']], geometry=gpd.points_from_xy(reduced_trips.CO_O_X, reduced_trips.CO_O_Y))\n",
    "\n",
    "# Convert origin coordinates to the desired projection \n",
    "geo_trips_origins.crs = {'init': 'epsg:22523'}\n",
    "geo_trips_origins.to_crs({'proj': 'longlat', 'ellps': 'WGS84', 'no_defs': True}, inplace=True)\n",
    "\n",
    "# Create a dataframe containing origin coordinates CO_D_X and CO_D_Y\n",
    "geo_trips_destinations = gpd.GeoDataFrame(\n",
    "    reduced_trips[['CO_D_X', 'CO_D_Y']], geometry=gpd.points_from_xy(reduced_trips.CO_D_X, reduced_trips.CO_D_Y))\n",
    "\n",
    "# Convert destination coordinates to the desired projection\n",
    "geo_trips_destinations.crs = {'init': 'epsg:22523'}\n",
    "geo_trips_destinations.to_crs({'proj': 'longlat', 'ellps': 'WGS84', 'no_defs': True}, inplace=True)\n",
    "\n",
    "None"
   ]
  },
  {
   "cell_type": "code",
   "execution_count": 48,
   "metadata": {},
   "outputs": [],
   "source": [
    "# Replace data by the new transformed coordinates\n",
    "reduced_trips['CO_O_X'] = geo_trips_origins.apply(lambda x: x['geometry'].x, axis=1)\n",
    "reduced_trips['CO_O_Y'] = geo_trips_origins.apply(lambda x: x['geometry'].y, axis=1)\n",
    "reduced_trips['CO_D_X'] = geo_trips_destinations.apply(lambda x: x['geometry'].x, axis=1)\n",
    "reduced_trips['CO_D_Y'] = geo_trips_destinations.apply(lambda x: x['geometry'].y, axis=1)"
   ]
  },
  {
   "cell_type": "code",
   "execution_count": 49,
   "metadata": {},
   "outputs": [],
   "source": [
    "reduced_trips.to_csv('bike-trips.csv', index=False)"
   ]
  },
  {
   "cell_type": "code",
   "execution_count": 50,
   "metadata": {},
   "outputs": [],
   "source": [
    "# A function to load points from the shapefile of a given entry\n",
    "def read_zones(shapefile):\n",
    "    # Read the shapefile pointed in the spec.json\n",
    "    print(\"Reading shapefile: \", shapefile)\n",
    "    zones_shape = gpd.read_file(shapefile, encoding='latin')\n",
    "    print(\"Current projection: \", zones_shape.crs)\n",
    "\n",
    "    # Projection used as Coordinate System, compatible with Cubu lat/lon format\n",
    "    projection = {'proj': 'longlat', 'ellps': 'WGS84', 'no_defs': True}\n",
    "\n",
    "    # Change projection for long/lat if different and save to new file\n",
    "    if(zones_shape.crs != projection):\n",
    "        print(\"Changing projection.\")\n",
    "        zones_shape = zones_shape.to_crs(projection)\n",
    "\n",
    "    print('Scanned zones from:', shapefile, '\\n')\n",
    "    return zones_shape"
   ]
  },
  {
   "cell_type": "code",
   "execution_count": 51,
   "metadata": {},
   "outputs": [
    {
     "name": "stdout",
     "output_type": "stream",
     "text": [
      "Reading shapefile:  ../datasets/od2017/raw/Mapas/Shape/Zonas_2017_region.shp\n",
      "Current projection:  {'init': 'epsg:22523'}\n",
      "Changing projection.\n"
     ]
    },
    {
     "name": "stderr",
     "output_type": "stream",
     "text": [
      "/home/tallys/.local/lib/python3.8/site-packages/pyproj/crs.py:77: FutureWarning: '+init=<authority>:<code>' syntax is deprecated. '<authority>:<code>' is the preferred initialization method.\n",
      "  return _prepare_from_string(\" \".join(pjargs))\n"
     ]
    },
    {
     "name": "stdout",
     "output_type": "stream",
     "text": [
      "Scanned zones from: ../datasets/od2017/raw/Mapas/Shape/Zonas_2017_region.shp \n",
      "\n"
     ]
    },
    {
     "data": {
      "text/plain": [
       "<matplotlib.axes._subplots.AxesSubplot at 0x7fe4fe68ec70>"
      ]
     },
     "execution_count": 51,
     "metadata": {},
     "output_type": "execute_result"
    },
    {
     "data": {
      "image/png": "[encoded data removed]",
      "text/plain": [
       "<Figure size 432x288 with 1 Axes>"
      ]
     },
     "metadata": {
      "needs_background": "light"
     },
     "output_type": "display_data"
    }
   ],
   "source": [
    "regions_map2017 = read_zones(\"../datasets/od2017/raw/Mapas/Shape/Zonas_2017_region.shp\")\n",
    "regions_map2017.plot()"
   ]
  }
 ],
 "metadata": {
  "kernelspec": {
   "display_name": "Python 3",
   "language": "python",
   "name": "python3"
  },
  "language_info": {
   "codemirror_mode": {
    "name": "ipython",
    "version": 3
   },
   "file_extension": ".py",
   "mimetype": "text/x-python",
   "name": "python",
   "nbconvert_exporter": "python",
   "pygments_lexer": "ipython3",
   "version": "3.8.0"
  }
 },
 "nbformat": 4,
 "nbformat_minor": 2
}
